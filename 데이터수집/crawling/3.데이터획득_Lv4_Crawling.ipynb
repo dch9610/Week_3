{
 "cells": [
  {
   "cell_type": "markdown",
   "metadata": {},
   "source": [
    "- 크롤링\n",
    "    - 내가 작성한 프로그램에 의해서, 웹 드라이버 브라우저 벤더별로 만든 웹드라이버 (핸들링이 가능한 브라우저)를 액세스하여 데이터 수집행위를 하는것\n",
    "    - 재료\n",
    "        - 웹 드라이버 (로컬 PC에 존재)\n",
    "            - 브라우저를 직접 띄워서 처리하는 방식\n",
    "                - 아나콘다에서 진행\n",
    "                \n",
    "            - 브라우저를 백엔드(고스트브라우저)에서 처리하는 방식 (숨김기능 => 리눅스환경)\n",
    "        - 모듈\n",
    "            - selenium \n",
    "            - 크롬 브라우저도 고스트기능을 사용할 수 있어서 리눅스(서버 스타일)에서 구동이 가능\n",
    "            - 코랩에서는 불가\n",
    "     "
   ]
  },
  {
   "cell_type": "code",
   "execution_count": 74,
   "metadata": {
    "scrolled": true
   },
   "outputs": [],
   "source": [
    "# 1. 모듈 가져오기\n",
    "from selenium import webdriver as wd\n",
    "import platform\n",
    "import time"
   ]
  },
  {
   "cell_type": "code",
   "execution_count": 72,
   "metadata": {},
   "outputs": [
    {
     "data": {
      "text/plain": [
       "'Windows'"
      ]
     },
     "execution_count": 72,
     "metadata": {},
     "output_type": "execute_result"
    }
   ],
   "source": [
    "platform.system()"
   ]
  },
  {
   "cell_type": "code",
   "execution_count": 73,
   "metadata": {},
   "outputs": [],
   "source": [
    "# 브라우저 띄우기\n",
    "if platform.system() == 'Windows':\n",
    "    driver = wd.Chrome('./chromedriver.exe')\n",
    "else: # Darwin:\n",
    "    driver = wd.Chrome('./chromedriver')\n"
   ]
  },
  {
   "cell_type": "code",
   "execution_count": 75,
   "metadata": {},
   "outputs": [
    {
     "data": {
      "text/plain": [
       "'http://www.opinet.co.kr/searRgSelect.do'"
      ]
     },
     "execution_count": 75,
     "metadata": {},
     "output_type": "execute_result"
    }
   ],
   "source": [
    "# 3. 대상 사이트\n",
    "target_site = 'http://www.opinet.co.kr/searRgSelect.do'\n",
    "target_site"
   ]
  },
  {
   "cell_type": "code",
   "execution_count": 76,
   "metadata": {},
   "outputs": [],
   "source": [
    "# 4. 접속 > get 방식 진행 -> 네트워크 속도, 타겟 사이트의 응답속도등을 고려\n",
    "# 접속후에는 충분히 대기한다. (명시적, 암묵적, time 모듈을 이용하여 쉬는 방법)\n",
    "# => 셀레니움을 이용한 크롤링 기술은 네트워크 속도가 아주 빠르거나, 일정한 수준을 유지하는 \n",
    "# 서버에서 진행, 서버 사양도 괜찮아야한다. (단, 고스트를 사용할때는 관계없음)\n",
    "# 2회 연속 접속을 통해서 원하는 사이트로 강제 진입\n",
    "for _ in range(2):\n",
    "    driver.get(target_site)\n",
    "    time.sleep(5) # 5초 대기\n"
   ]
  },
  {
   "cell_type": "code",
   "execution_count": 77,
   "metadata": {
    "collapsed": true
   },
   "outputs": [
    {
     "data": {
      "text/plain": [
       "[<selenium.webdriver.remote.webelement.WebElement (session=\"d2ab31d254d8c0cbc21019afc498a5ba\", element=\"1c0cd5a2-643d-4cf1-8a56-e6260bb36fb4\")>,\n",
       " <selenium.webdriver.remote.webelement.WebElement (session=\"d2ab31d254d8c0cbc21019afc498a5ba\", element=\"c34e38c0-2996-44ac-ad1e-ee59f525cda0\")>,\n",
       " <selenium.webdriver.remote.webelement.WebElement (session=\"d2ab31d254d8c0cbc21019afc498a5ba\", element=\"e0aead0f-daf0-4ded-bd99-51e2a8719d02\")>,\n",
       " <selenium.webdriver.remote.webelement.WebElement (session=\"d2ab31d254d8c0cbc21019afc498a5ba\", element=\"7f084e44-1e33-4ab6-a18a-b64c8256aa9b\")>,\n",
       " <selenium.webdriver.remote.webelement.WebElement (session=\"d2ab31d254d8c0cbc21019afc498a5ba\", element=\"4e00a63c-1a36-4b43-ac57-4c3975cc8193\")>,\n",
       " <selenium.webdriver.remote.webelement.WebElement (session=\"d2ab31d254d8c0cbc21019afc498a5ba\", element=\"09405f8b-a096-4aed-bf7a-498a32e5b455\")>,\n",
       " <selenium.webdriver.remote.webelement.WebElement (session=\"d2ab31d254d8c0cbc21019afc498a5ba\", element=\"ce289de5-b809-4656-ab61-6533c7dbf340\")>,\n",
       " <selenium.webdriver.remote.webelement.WebElement (session=\"d2ab31d254d8c0cbc21019afc498a5ba\", element=\"4bde7270-c2d9-4840-a4a3-3a6486c894de\")>,\n",
       " <selenium.webdriver.remote.webelement.WebElement (session=\"d2ab31d254d8c0cbc21019afc498a5ba\", element=\"20230039-7cbc-4982-acd2-85118d0b8862\")>,\n",
       " <selenium.webdriver.remote.webelement.WebElement (session=\"d2ab31d254d8c0cbc21019afc498a5ba\", element=\"ad6280d9-c7ce-47c5-9aec-51d49fbb8efd\")>,\n",
       " <selenium.webdriver.remote.webelement.WebElement (session=\"d2ab31d254d8c0cbc21019afc498a5ba\", element=\"a0c52bff-b867-4f10-a286-4345de175555\")>,\n",
       " <selenium.webdriver.remote.webelement.WebElement (session=\"d2ab31d254d8c0cbc21019afc498a5ba\", element=\"892c5397-841e-49ae-ac8e-7f80411ab301\")>,\n",
       " <selenium.webdriver.remote.webelement.WebElement (session=\"d2ab31d254d8c0cbc21019afc498a5ba\", element=\"7aad6bca-a9eb-44f8-a676-c6ee1ce18bc6\")>,\n",
       " <selenium.webdriver.remote.webelement.WebElement (session=\"d2ab31d254d8c0cbc21019afc498a5ba\", element=\"72cb4391-3c30-4292-b770-9b9d39450557\")>,\n",
       " <selenium.webdriver.remote.webelement.WebElement (session=\"d2ab31d254d8c0cbc21019afc498a5ba\", element=\"7827dc98-517a-486e-a0c1-bd10181461ad\")>,\n",
       " <selenium.webdriver.remote.webelement.WebElement (session=\"d2ab31d254d8c0cbc21019afc498a5ba\", element=\"0cffcf15-ef05-4649-bc17-5524dbc84151\")>,\n",
       " <selenium.webdriver.remote.webelement.WebElement (session=\"d2ab31d254d8c0cbc21019afc498a5ba\", element=\"75140a0f-ecbc-4efd-b12f-909ab2b85a95\")>,\n",
       " <selenium.webdriver.remote.webelement.WebElement (session=\"d2ab31d254d8c0cbc21019afc498a5ba\", element=\"9a5403d5-d506-446c-b120-b1a88e7fbfaf\")>]"
      ]
     },
     "execution_count": 77,
     "metadata": {},
     "output_type": "execute_result"
    }
   ],
   "source": [
    "# 시도 : #SIDO_NM0 -> select\n",
    "# 1. 시도의 목록을 획득\n",
    "#     시도 태그 밑에 있는 모든 option 자식들을 찾아라\n",
    "driver.find_elements_by_css_selector('#SIDO_NM0 > option')"
   ]
  },
  {
   "cell_type": "code",
   "execution_count": 79,
   "metadata": {
    "collapsed": true
   },
   "outputs": [
    {
     "name": "stdout",
     "output_type": "stream",
     "text": [
      "서울특별시\n",
      "부산광역시\n",
      "대구광역시\n",
      "인천광역시\n",
      "광주광역시\n",
      "대전광역시\n",
      "울산광역시\n",
      "세종특별자치시\n",
      "경기도\n",
      "강원도\n",
      "충청북도\n",
      "충청남도\n",
      "전라북도\n",
      "전라남도\n",
      "경상북도\n",
      "경상남도\n",
      "제주특별자치도\n"
     ]
    }
   ],
   "source": [
    "for option in driver.find_elements_by_css_selector('#SIDO_NM0 > option'):\n",
    "    # option들 중에서 value가 존재하는 요소만 , 찾는다.\n",
    "    if option.get_attribute('value'):\n",
    "        # 실제 다음단계에 필요한 정보 value를 추출\n",
    "        print(option.get_attribute('value'))\n",
    "    "
   ]
  },
  {
   "cell_type": "code",
   "execution_count": 50,
   "metadata": {
    "collapsed": true
   },
   "outputs": [
    {
     "data": {
      "text/plain": [
       "['서울특별시',\n",
       " '부산광역시',\n",
       " '대구광역시',\n",
       " '인천광역시',\n",
       " '광주광역시',\n",
       " '대전광역시',\n",
       " '울산광역시',\n",
       " '세종특별자치시',\n",
       " '경기도',\n",
       " '강원도',\n",
       " '충청북도',\n",
       " '충청남도',\n",
       " '전라북도',\n",
       " '전라남도',\n",
       " '경상북도',\n",
       " '경상남도',\n",
       " '제주특별자치도']"
      ]
     },
     "execution_count": 50,
     "metadata": {},
     "output_type": "execute_result"
    }
   ],
   "source": [
    "sidos = [option.get_attribute('value')\n",
    "        for option in driver.find_elements_by_css_selector('#SIDO_NM0 > option')\n",
    "        if option.get_attribute('value')\n",
    "        ]\n",
    "sidos\n",
    "\n",
    "\n",
    "    "
   ]
  },
  {
   "cell_type": "code",
   "execution_count": 80,
   "metadata": {},
   "outputs": [
    {
     "name": "stdout",
     "output_type": "stream",
     "text": [
      "<selenium.webdriver.remote.webelement.WebElement (session=\"d2ab31d254d8c0cbc21019afc498a5ba\", element=\"261a7c67-25fe-46ad-a541-6dbe4e50e01e\")>\n",
      "서울특별시\n",
      "부산광역시\n"
     ]
    }
   ],
   "source": [
    "sido_sel = driver.find_element_by_id('SIDO_NM0')\n",
    "print(sido_sel)\n",
    "for sido in sidos[:2]:\n",
    "    print(sido)\n",
    "    # select 태그의 value값을 지정함으로써,시도 선택을 확정할수 있다\n",
    "    # 이후 이벤트는 사이트에 미리 설정 이벤트 처리에 의해 시군구가 반영된다.\n",
    "    # 특정 요소에 value를 세팅하는 함수\n",
    "    sido_sel.send_keys( sido ) # 이벤트 발생\n",
    "    # 사이트는 내부적으로 ajax를 이용하여 해당 변경된 시도에 일치되는 시군구 정보를 가져온다.\n",
    "    # 대기\n",
    "    time.sleep(5)\n",
    "    "
   ]
  },
  {
   "cell_type": "code",
   "execution_count": 81,
   "metadata": {
    "collapsed": true
   },
   "outputs": [
    {
     "data": {
      "text/plain": [
       "[<selenium.webdriver.remote.webelement.WebElement (session=\"d2ab31d254d8c0cbc21019afc498a5ba\", element=\"6cd41bb8-3d73-4f14-8879-85753c8b8155\")>,\n",
       " <selenium.webdriver.remote.webelement.WebElement (session=\"d2ab31d254d8c0cbc21019afc498a5ba\", element=\"a3df6fb2-ff46-4002-8c4a-20a8fbe7c27b\")>,\n",
       " <selenium.webdriver.remote.webelement.WebElement (session=\"d2ab31d254d8c0cbc21019afc498a5ba\", element=\"baffb411-ea5a-4d23-88f1-5760bc5181de\")>,\n",
       " <selenium.webdriver.remote.webelement.WebElement (session=\"d2ab31d254d8c0cbc21019afc498a5ba\", element=\"19a7d51c-2c83-4a25-8c4e-5e2694fad79b\")>,\n",
       " <selenium.webdriver.remote.webelement.WebElement (session=\"d2ab31d254d8c0cbc21019afc498a5ba\", element=\"49c332d8-c4af-4fa2-a9bf-c9d34969b5c9\")>,\n",
       " <selenium.webdriver.remote.webelement.WebElement (session=\"d2ab31d254d8c0cbc21019afc498a5ba\", element=\"d1a22150-de63-49fb-9db6-2b2072a44411\")>,\n",
       " <selenium.webdriver.remote.webelement.WebElement (session=\"d2ab31d254d8c0cbc21019afc498a5ba\", element=\"060e252a-aba0-4274-ba41-0fbfa305152d\")>,\n",
       " <selenium.webdriver.remote.webelement.WebElement (session=\"d2ab31d254d8c0cbc21019afc498a5ba\", element=\"0d34ff77-7b46-426f-bc39-310701a024bb\")>,\n",
       " <selenium.webdriver.remote.webelement.WebElement (session=\"d2ab31d254d8c0cbc21019afc498a5ba\", element=\"b74bca21-f9ad-4278-9c6a-c7f1d09314d5\")>,\n",
       " <selenium.webdriver.remote.webelement.WebElement (session=\"d2ab31d254d8c0cbc21019afc498a5ba\", element=\"bb446365-b05c-48b8-897e-58e75758c0f4\")>,\n",
       " <selenium.webdriver.remote.webelement.WebElement (session=\"d2ab31d254d8c0cbc21019afc498a5ba\", element=\"d207878b-3bbf-402f-91ce-a47893ca3bda\")>,\n",
       " <selenium.webdriver.remote.webelement.WebElement (session=\"d2ab31d254d8c0cbc21019afc498a5ba\", element=\"6ec0f848-4b9a-4053-96d0-a4b8583cc9f2\")>,\n",
       " <selenium.webdriver.remote.webelement.WebElement (session=\"d2ab31d254d8c0cbc21019afc498a5ba\", element=\"414c089d-f6a9-464c-8d9b-1eb9a06875d2\")>,\n",
       " <selenium.webdriver.remote.webelement.WebElement (session=\"d2ab31d254d8c0cbc21019afc498a5ba\", element=\"ff2af511-7365-41f2-bd1e-a2f73020ea25\")>,\n",
       " <selenium.webdriver.remote.webelement.WebElement (session=\"d2ab31d254d8c0cbc21019afc498a5ba\", element=\"ff4b9d8f-5980-49f6-ac6f-b73047401902\")>,\n",
       " <selenium.webdriver.remote.webelement.WebElement (session=\"d2ab31d254d8c0cbc21019afc498a5ba\", element=\"64a4fcf3-daf6-4924-987d-dbfd33caf020\")>,\n",
       " <selenium.webdriver.remote.webelement.WebElement (session=\"d2ab31d254d8c0cbc21019afc498a5ba\", element=\"ccaeec27-2b25-49a2-be42-ee7d60ea41e1\")>]"
      ]
     },
     "execution_count": 81,
     "metadata": {},
     "output_type": "execute_result"
    }
   ],
   "source": [
    "# 시군구 : #SIGUNGU_NM0 -> select\n",
    "driver.find_elements_by_css_selector('#SIGUNGU_NM0 > option')"
   ]
  },
  {
   "cell_type": "code",
   "execution_count": 95,
   "metadata": {
    "collapsed": true
   },
   "outputs": [
    {
     "data": {
      "text/plain": [
       "['강서구',\n",
       " '금정구',\n",
       " '기장군',\n",
       " '남구',\n",
       " '동구',\n",
       " '동래구',\n",
       " '부산진구',\n",
       " '북구',\n",
       " '사상구',\n",
       " '사하구',\n",
       " '서구',\n",
       " '수영구',\n",
       " '연제구',\n",
       " '영도구',\n",
       " '중구',\n",
       " '해운대구']"
      ]
     },
     "execution_count": 95,
     "metadata": {},
     "output_type": "execute_result"
    }
   ],
   "source": [
    "# 시군구 변경 시작\n",
    "siguns = [option.get_attribute('value')\n",
    "        for option in driver.find_elements_by_css_selector('#SIGUNGU_NM0 > option')\n",
    "        if option.get_attribute('value')\n",
    "        ]\n",
    "siguns"
   ]
  },
  {
   "cell_type": "code",
   "execution_count": 100,
   "metadata": {},
   "outputs": [
    {
     "name": "stdout",
     "output_type": "stream",
     "text": [
      "서울특별시\n",
      "중구\n",
      "중랑구\n",
      "부산광역시\n",
      "중구\n",
      "해운대구\n"
     ]
    }
   ],
   "source": [
    "# 시군구 select 태그의 값을 현재 시군구 설정\n",
    "# 시군구를 선택하면 => 화면이 껌벅 => DOM tree를 새로 구성한다.\n",
    "# for문에 넣어 매번 구해줘야한다.\n",
    "\n",
    "for sido in sidos[:2]:\n",
    "    print(sido)\n",
    "    sido_sel = driver.find_element_by_id('SIDO_NM0')\n",
    "    sido_sel.send_keys( sido ) # 이벤트 발생\n",
    "    time.sleep(3)\n",
    "    # 시군구 변경 시작\n",
    "    siguns = [option.get_attribute('value')\n",
    "        for option in driver.find_elements_by_css_selector('#SIGUNGU_NM0 > option')\n",
    "        if option.get_attribute('value')\n",
    "        ]\n",
    "    # 시군구를 돌아가면서 선택\n",
    "    for sigun in siguns[-2:]:\n",
    "        print(sigun)\n",
    "        driver.find_element_by_id('SIGUNGU_NM0').send_keys(sigun)\n",
    "        time.sleep(3)\n",
    "        # 엑셀 다운로드 버튼 클릭\n",
    "        driver.find_element_by_id('glopopd_excel').click()\n"
   ]
  },
  {
   "cell_type": "code",
   "execution_count": 102,
   "metadata": {},
   "outputs": [],
   "source": [
    "# 저장된 파일을 읽어서 다음 단계를 위해서 준비\n",
    "from glob import glob"
   ]
  },
  {
   "cell_type": "code",
   "execution_count": 105,
   "metadata": {},
   "outputs": [
    {
     "data": {
      "text/plain": [
       "['C:/Users/pnu/Downloads\\\\지역_위치별(주유소) (1).xls',\n",
       " 'C:/Users/pnu/Downloads\\\\지역_위치별(주유소) (2).xls',\n",
       " 'C:/Users/pnu/Downloads\\\\지역_위치별(주유소) (3).xls',\n",
       " 'C:/Users/pnu/Downloads\\\\지역_위치별(주유소).xls']"
      ]
     },
     "execution_count": 105,
     "metadata": {},
     "output_type": "execute_result"
    }
   ],
   "source": [
    "# 엑셀 파일을 다운로드 받은 경로\n",
    "glob('C:/Users/pnu/Downloads/지역_*.xls')"
   ]
  },
  {
   "cell_type": "code",
   "execution_count": null,
   "metadata": {},
   "outputs": [],
   "source": [
    "# 조회 : #searRgSelect -> button <= 클릭 이벤트"
   ]
  },
  {
   "cell_type": "code",
   "execution_count": null,
   "metadata": {},
   "outputs": [],
   "source": [
    "# 엑셀 : javascript:fn_excel_download('os_btn'); <= 클릭이벤트\n",
    "#        glopopd_excel"
   ]
  },
  {
   "cell_type": "code",
   "execution_count": 107,
   "metadata": {},
   "outputs": [
    {
     "ename": "WebDriverException",
     "evalue": "Message: chrome not reachable\n  (Session info: chrome=87.0.4280.88)\n",
     "output_type": "error",
     "traceback": [
      "\u001b[1;31m---------------------------------------------------------------------------\u001b[0m",
      "\u001b[1;31mWebDriverException\u001b[0m                        Traceback (most recent call last)",
      "\u001b[1;32m<ipython-input-107-f0d57ec9cac6>\u001b[0m in \u001b[0;36m<module>\u001b[1;34m\u001b[0m\n\u001b[0;32m      1\u001b[0m \u001b[1;31m# 브라우저 닫기 (창닫고, 프로세스 종료)\u001b[0m\u001b[1;33m\u001b[0m\u001b[1;33m\u001b[0m\u001b[1;33m\u001b[0m\u001b[0m\n\u001b[1;32m----> 2\u001b[1;33m \u001b[0mdriver\u001b[0m\u001b[1;33m.\u001b[0m\u001b[0mclose\u001b[0m\u001b[1;33m(\u001b[0m\u001b[1;33m)\u001b[0m\u001b[1;33m\u001b[0m\u001b[1;33m\u001b[0m\u001b[0m\n\u001b[0m\u001b[0;32m      3\u001b[0m \u001b[0mdriver\u001b[0m\u001b[1;33m.\u001b[0m\u001b[0mquit\u001b[0m\u001b[1;33m(\u001b[0m\u001b[1;33m)\u001b[0m\u001b[1;33m\u001b[0m\u001b[1;33m\u001b[0m\u001b[0m\n",
      "\u001b[1;32m~\\anaconda3\\lib\\site-packages\\selenium\\webdriver\\remote\\webdriver.py\u001b[0m in \u001b[0;36mclose\u001b[1;34m(self)\u001b[0m\n\u001b[0;32m    686\u001b[0m             \u001b[0mdriver\u001b[0m\u001b[1;33m.\u001b[0m\u001b[0mclose\u001b[0m\u001b[1;33m(\u001b[0m\u001b[1;33m)\u001b[0m\u001b[1;33m\u001b[0m\u001b[1;33m\u001b[0m\u001b[0m\n\u001b[0;32m    687\u001b[0m         \"\"\"\n\u001b[1;32m--> 688\u001b[1;33m         \u001b[0mself\u001b[0m\u001b[1;33m.\u001b[0m\u001b[0mexecute\u001b[0m\u001b[1;33m(\u001b[0m\u001b[0mCommand\u001b[0m\u001b[1;33m.\u001b[0m\u001b[0mCLOSE\u001b[0m\u001b[1;33m)\u001b[0m\u001b[1;33m\u001b[0m\u001b[1;33m\u001b[0m\u001b[0m\n\u001b[0m\u001b[0;32m    689\u001b[0m \u001b[1;33m\u001b[0m\u001b[0m\n\u001b[0;32m    690\u001b[0m     \u001b[1;32mdef\u001b[0m \u001b[0mquit\u001b[0m\u001b[1;33m(\u001b[0m\u001b[0mself\u001b[0m\u001b[1;33m)\u001b[0m\u001b[1;33m:\u001b[0m\u001b[1;33m\u001b[0m\u001b[1;33m\u001b[0m\u001b[0m\n",
      "\u001b[1;32m~\\anaconda3\\lib\\site-packages\\selenium\\webdriver\\remote\\webdriver.py\u001b[0m in \u001b[0;36mexecute\u001b[1;34m(self, driver_command, params)\u001b[0m\n\u001b[0;32m    319\u001b[0m         \u001b[0mresponse\u001b[0m \u001b[1;33m=\u001b[0m \u001b[0mself\u001b[0m\u001b[1;33m.\u001b[0m\u001b[0mcommand_executor\u001b[0m\u001b[1;33m.\u001b[0m\u001b[0mexecute\u001b[0m\u001b[1;33m(\u001b[0m\u001b[0mdriver_command\u001b[0m\u001b[1;33m,\u001b[0m \u001b[0mparams\u001b[0m\u001b[1;33m)\u001b[0m\u001b[1;33m\u001b[0m\u001b[1;33m\u001b[0m\u001b[0m\n\u001b[0;32m    320\u001b[0m         \u001b[1;32mif\u001b[0m \u001b[0mresponse\u001b[0m\u001b[1;33m:\u001b[0m\u001b[1;33m\u001b[0m\u001b[1;33m\u001b[0m\u001b[0m\n\u001b[1;32m--> 321\u001b[1;33m             \u001b[0mself\u001b[0m\u001b[1;33m.\u001b[0m\u001b[0merror_handler\u001b[0m\u001b[1;33m.\u001b[0m\u001b[0mcheck_response\u001b[0m\u001b[1;33m(\u001b[0m\u001b[0mresponse\u001b[0m\u001b[1;33m)\u001b[0m\u001b[1;33m\u001b[0m\u001b[1;33m\u001b[0m\u001b[0m\n\u001b[0m\u001b[0;32m    322\u001b[0m             response['value'] = self._unwrap_value(\n\u001b[0;32m    323\u001b[0m                 response.get('value', None))\n",
      "\u001b[1;32m~\\anaconda3\\lib\\site-packages\\selenium\\webdriver\\remote\\errorhandler.py\u001b[0m in \u001b[0;36mcheck_response\u001b[1;34m(self, response)\u001b[0m\n\u001b[0;32m    240\u001b[0m                 \u001b[0malert_text\u001b[0m \u001b[1;33m=\u001b[0m \u001b[0mvalue\u001b[0m\u001b[1;33m[\u001b[0m\u001b[1;34m'alert'\u001b[0m\u001b[1;33m]\u001b[0m\u001b[1;33m.\u001b[0m\u001b[0mget\u001b[0m\u001b[1;33m(\u001b[0m\u001b[1;34m'text'\u001b[0m\u001b[1;33m)\u001b[0m\u001b[1;33m\u001b[0m\u001b[1;33m\u001b[0m\u001b[0m\n\u001b[0;32m    241\u001b[0m             \u001b[1;32mraise\u001b[0m \u001b[0mexception_class\u001b[0m\u001b[1;33m(\u001b[0m\u001b[0mmessage\u001b[0m\u001b[1;33m,\u001b[0m \u001b[0mscreen\u001b[0m\u001b[1;33m,\u001b[0m \u001b[0mstacktrace\u001b[0m\u001b[1;33m,\u001b[0m \u001b[0malert_text\u001b[0m\u001b[1;33m)\u001b[0m\u001b[1;33m\u001b[0m\u001b[1;33m\u001b[0m\u001b[0m\n\u001b[1;32m--> 242\u001b[1;33m         \u001b[1;32mraise\u001b[0m \u001b[0mexception_class\u001b[0m\u001b[1;33m(\u001b[0m\u001b[0mmessage\u001b[0m\u001b[1;33m,\u001b[0m \u001b[0mscreen\u001b[0m\u001b[1;33m,\u001b[0m \u001b[0mstacktrace\u001b[0m\u001b[1;33m)\u001b[0m\u001b[1;33m\u001b[0m\u001b[1;33m\u001b[0m\u001b[0m\n\u001b[0m\u001b[0;32m    243\u001b[0m \u001b[1;33m\u001b[0m\u001b[0m\n\u001b[0;32m    244\u001b[0m     \u001b[1;32mdef\u001b[0m \u001b[0m_value_or_default\u001b[0m\u001b[1;33m(\u001b[0m\u001b[0mself\u001b[0m\u001b[1;33m,\u001b[0m \u001b[0mobj\u001b[0m\u001b[1;33m,\u001b[0m \u001b[0mkey\u001b[0m\u001b[1;33m,\u001b[0m \u001b[0mdefault\u001b[0m\u001b[1;33m)\u001b[0m\u001b[1;33m:\u001b[0m\u001b[1;33m\u001b[0m\u001b[1;33m\u001b[0m\u001b[0m\n",
      "\u001b[1;31mWebDriverException\u001b[0m: Message: chrome not reachable\n  (Session info: chrome=87.0.4280.88)\n"
     ]
    }
   ],
   "source": [
    "# 브라우저 닫기 (창닫고, 프로세스 종료)\n",
    "driver.close()\n",
    "driver.quit()\n"
   ]
  },
  {
   "cell_type": "code",
   "execution_count": null,
   "metadata": {},
   "outputs": [],
   "source": [
    "# 파이썬 프로세스 종료\n",
    "exit()"
   ]
  }
 ],
 "metadata": {
  "kernelspec": {
   "display_name": "Python 3",
   "language": "python",
   "name": "python3"
  },
  "language_info": {
   "codemirror_mode": {
    "name": "ipython",
    "version": 3
   },
   "file_extension": ".py",
   "mimetype": "text/x-python",
   "name": "python",
   "nbconvert_exporter": "python",
   "pygments_lexer": "ipython3",
   "version": "3.8.5"
  }
 },
 "nbformat": 4,
 "nbformat_minor": 4
}
